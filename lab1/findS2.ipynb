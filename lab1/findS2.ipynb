{
 "cells": [
  {
   "cell_type": "code",
   "execution_count": 1,
   "metadata": {},
   "outputs": [],
   "source": [
    "import pandas as pd\n",
    "import numpy as np"
   ]
  },
  {
   "cell_type": "code",
   "execution_count": 2,
   "metadata": {},
   "outputs": [
    {
     "name": "stdout",
     "output_type": "stream",
     "text": [
      "Enter number of rows:3\n",
      "Enter the data:\n",
      "\n",
      "Enter Hypothesis: 1 \n",
      "\n",
      "Enter value for: Time: eve\n",
      "Enter value for: Weather: sunny\n",
      "Enter value for: Temperature: warm\n",
      "Enter value for: humidity: mild\n",
      "Enter value for: Enjoying?: yes\n",
      "Enter Hypothesis: 2 \n",
      "\n",
      "Enter value for: Time: eve\n",
      "Enter value for: Weather: rainy\n",
      "Enter value for: Temperature: cold\n",
      "Enter value for: humidity: less\n",
      "Enter value for: Enjoying?: yes\n",
      "Enter Hypothesis: 3 \n",
      "\n",
      "Enter value for: Time: eve\n",
      "Enter value for: Weather: sunny\n",
      "Enter value for: Temperature: warm\n",
      "Enter value for: humidity: mild\n",
      "Enter value for: Enjoying?: no\n"
     ]
    }
   ],
   "source": [
    "n=int(input(\"Enter number of rows:\"))\n",
    "columns=['Time','Weather','Temperature','humidity','Enjoying?']\n",
    "d=[]\n",
    "print(\"Enter the data:\\n\")\n",
    "for i in range(n):\n",
    "    print(\"Enter Hypothesis:\",i+1,\"\\n\")\n",
    "    temp=[]\n",
    "    for x in columns:\n",
    "        t=input(\"Enter value for: \"+x+\": \")\n",
    "        temp.append(t)\n",
    "    d.append(temp)"
   ]
  },
  {
   "cell_type": "code",
   "execution_count": null,
   "metadata": {},
   "outputs": [],
   "source": [
    "for x in d:\n",
    "    print(x)\n",
    "hypo=[]\n",
    "for i in range(len(d[0])):\n",
    "    hypo.append(\"?\")\n",
    "for i in range(len(d)):\n",
    "    if d[i][len(d[0])-1]=='yes':\n",
    "        hypo=d[i]"
   ]
  },
  {
   "cell_type": "code",
   "execution_count": null,
   "metadata": {},
   "outputs": [],
   "source": [
    "for i in range(len(d)):\n",
    "    if d[i][len(d[0])-1]=='yes':\n",
    "        for j in range(len(d[0])):\n",
    "            if(d[i][j]!=hypo[j]):\n",
    "                hypo[j]=\"?\""
   ]
  },
  {
   "cell_type": "code",
   "execution_count": null,
   "metadata": {},
   "outputs": [],
   "source": [
    "print(hypo)"
   ]
  },
  {
   "cell_type": "code",
   "execution_count": null,
   "metadata": {},
   "outputs": [],
   "source": []
  },
  {
   "cell_type": "code",
   "execution_count": null,
   "metadata": {},
   "outputs": [],
   "source": []
  }
 ],
 "metadata": {
  "kernelspec": {
   "display_name": "Python 3",
   "language": "python",
   "name": "python3"
  },
  "language_info": {
   "codemirror_mode": {
    "name": "ipython",
    "version": 3
   },
   "file_extension": ".py",
   "mimetype": "text/x-python",
   "name": "python",
   "nbconvert_exporter": "python",
   "pygments_lexer": "ipython3",
   "version": "3.7.0"
  }
 },
 "nbformat": 4,
 "nbformat_minor": 2
}
